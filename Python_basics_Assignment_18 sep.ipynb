{
  "nbformat": 4,
  "nbformat_minor": 0,
  "metadata": {
    "colab": {
      "provenance": []
    },
    "kernelspec": {
      "name": "python3",
      "display_name": "Python 3"
    },
    "language_info": {
      "name": "python"
    }
  },
  "cells": [
    {
      "cell_type": "markdown",
      "source": [
        "1. What is python, and why is it popular?\n",
        "  - Python is a high-level, general-purpose programming language known for its simplicity and readability.\n",
        "\n",
        "  - It's popular because it's easy to learn, has a vast ecosystem of libraries (for web development, data science, AI, etc.), offers rapid development, and is highly versatile across many domains and platforms.\n",
        "\n",
        "2. What is an interpreter in Python?\n",
        "  - In Python, an interpreter is a computer program that directly executes code written in the Python language, line by line, without needing to first compile the entire program into machine code.\n",
        "\n",
        "3. What are pre-defined keywords in Python?\n",
        "  - Pre-defined keywords in Python are special, reserved words that have a fixed meaning and purpose in the language. You cannot use them for your own variable, function, or class names. They dictate Python's syntax and control its flow, like if, else, for, def, True, and False\n",
        "\n",
        "4. Can keywords be used as variable names?\n",
        "  - No, keywords cannot be used as variable names in Python. They are reserved by the language for specific purposes.\n",
        "\n",
        "5. What is mutability in Python?\n",
        "  - In Python, mutability refers to whether an object's value or state can be changed after it has been created.\n",
        "  - Mutable objects, such as lists and dictionaries, can be modified after creation.\n",
        "\n",
        "6. Why are lists mutable, but tuples are immutable?\n",
        "  - Lists are mutable by design to allow for dynamic collections where elements can be added, removed, or changed after creation.\n",
        "  - Tuples are immutable by design to represent fixed collections of items that should not change, offering benefits like data integrity, faster iteration, and the ability to be used as dictionary keys (due to their hashability).\n",
        "\n",
        "7. What is the difference between “==” and “is” operators in Python?\n",
        "  - The key difference between == and is in Python lies in what they compare:\n",
        "  - == (equality operator) compares the values of two objects. It checks if the objects have the same content.\n",
        "\n",
        "  - is (identity operator) compares the memory addresses (identities) of two objects. It checks if two variables refer to the exact same object in memory.\n",
        "\n",
        "8. What are logical operators in Python?\n",
        "  - Logical operators in Python (and, or, not) are used to combine or modify Boolean expressions (conditions that evaluate to True or False).\n",
        "\n",
        "  - and: Returns True if both operands are True.\n",
        "\n",
        "  - or: Returns True if at least one operand is True.\n",
        "\n",
        "  - not: Reverses the Boolean value of its operand (changes True to False, and  False to True).\n",
        "\n",
        "9. What is type casting in Python?\n",
        "  - Type casting (or type conversion) in Python is the process of changing the data type of a value from one type to another. This is done using built-in functions like int(), float(), str(), list(), tuple(), etc., to explicitly convert data as needed for specific operations or contexts.\n",
        "\n",
        "10. What is the difference between implicit and explicit type casting?\n",
        "  - Implicit type casting (or coercion) is done automatically by the Python interpreter to avoid data loss or make operations compatible (e.g., adding an integer to a float results in a float).\n",
        "\n",
        "  - Explicit type casting (or type conversion) is performed manually by the programmer using built-in functions like int(), float(), or str() to convert a value to a desired data type.\n",
        "\n",
        "11. What is the purpose of conditional statements in Python?\n",
        "  - Conditional statements in Python allow your program to make decisions and execute different blocks of code based on whether certain conditions are True or False. They control the flow of the program, enabling it to respond dynamically to varying inputs or situations.\n",
        "\n",
        "12. How does the elif statement work?\n",
        "  - The elif (short for \"else if\") statement in Python allows you to check multiple conditions sequentially after an initial if statement.\n",
        "\n",
        "  - Here's how it works:\n",
        "\n",
        "  a). The if condition is checked first. If it's True, its code block runs, and the rest of the elif/else chain is skipped.\n",
        "\n",
        "  b). If the if condition is False, then the first elif condition is checked. If it's True, its code block runs, and the rest of the chain is skipped.\n",
        "\n",
        "  c).This process continues down the elif chain. The program checks each elif condition only if all preceding if and elif conditions were False.\n",
        "\n",
        "  d).If none of the if or elif conditions are True, the optional else block (if present) will be executed.\n",
        "\n",
        "  - Essentially, elif provides a way to handle several possible outcomes where only one block of code should be executed.\n",
        "\n",
        "13. What is the difference between for and while loops?\n",
        "  - The core difference lies in how they control iteration:\n",
        "\n",
        "  1. for loop: Used for iterating over a sequence (like a list, string, tuple, or range) or any iterable object. You generally use it when you know the number of iterations or are processing each item in a collection.\n",
        "\n",
        "  2. while loop: Used for repeatedly executing a block of code as long as a specific condition remains True. You use it when the number of iterations is unknown beforehand and depends on a condition being met during execution.\n",
        "\n",
        "14. Describe a scenario where a while loop is more suitable than a for loop.\n",
        "  - A while loop is more suitable when you need to repeat a block of code until a certain condition is met, and you don't know in advance how many times that repetition will be needed."
      ],
      "metadata": {
        "id": "C-JPdFRpKzQF"
      }
    },
    {
      "cell_type": "code",
      "source": [
        "#Write a Python program to print \"Hello, World!\"\n",
        "print(\"Hello, World!\")"
      ],
      "metadata": {
        "colab": {
          "base_uri": "https://localhost:8080/"
        },
        "id": "yh6ZrKsDTlzp",
        "outputId": "b2c7296b-424e-480e-e463-a057407f0056"
      },
      "execution_count": 1,
      "outputs": [
        {
          "output_type": "stream",
          "name": "stdout",
          "text": [
            "Hello, World!\n"
          ]
        }
      ]
    },
    {
      "cell_type": "code",
      "source": [
        "#Write a Python program that displays your name and age.\n",
        "name = input(\"Enter your name: \")\n",
        "age = input(\"Enter your age: \")\n",
        "print(f\"Your name is {name} and your age is {age}.\")"
      ],
      "metadata": {
        "colab": {
          "base_uri": "https://localhost:8080/"
        },
        "id": "R15QhaVcT1tE",
        "outputId": "8f9c0144-7d3a-4d83-f795-713cc555d3ba"
      },
      "execution_count": 2,
      "outputs": [
        {
          "output_type": "stream",
          "name": "stdout",
          "text": [
            "Enter your name: Yasir Alam\n",
            "Enter your age: 28\n",
            "Your name is Yasir Alam and your age is 28.\n"
          ]
        }
      ]
    },
    {
      "cell_type": "code",
      "source": [
        "#Write code to print all the pre-defined keywords in Python using the keyword library.\n",
        "import keyword\n",
        "\n",
        "def print_python_keywords():\n",
        "    print(\"Predefined Keywords in Python:\")\n",
        "    for kw in keyword.kwlist:\n",
        "        print(kw)\n",
        "\n",
        "# Call the function to display the keywords\n",
        "print_python_keywords()"
      ],
      "metadata": {
        "colab": {
          "base_uri": "https://localhost:8080/"
        },
        "id": "75iLVw8xUChM",
        "outputId": "5a9dcfd5-9bcf-4fc4-8fcc-b4426e6bceaf"
      },
      "execution_count": 3,
      "outputs": [
        {
          "output_type": "stream",
          "name": "stdout",
          "text": [
            "Predefined Keywords in Python:\n",
            "False\n",
            "None\n",
            "True\n",
            "and\n",
            "as\n",
            "assert\n",
            "async\n",
            "await\n",
            "break\n",
            "class\n",
            "continue\n",
            "def\n",
            "del\n",
            "elif\n",
            "else\n",
            "except\n",
            "finally\n",
            "for\n",
            "from\n",
            "global\n",
            "if\n",
            "import\n",
            "in\n",
            "is\n",
            "lambda\n",
            "nonlocal\n",
            "not\n",
            "or\n",
            "pass\n",
            "raise\n",
            "return\n",
            "try\n",
            "while\n",
            "with\n",
            "yield\n"
          ]
        }
      ]
    },
    {
      "cell_type": "code",
      "source": [
        "#Write a program that checks if a given word is a Python keyword.\n",
        "import keyword\n",
        "\n",
        "def check_if_keyword(word):\n",
        "\n",
        "    return keyword.iskeyword(word)\n",
        "\n",
        "if __name__ == \"__main__\":\n",
        "    print(\"--- Python Keyword Checker ---\")\n",
        "    while True:\n",
        "        user_input = input(\"Enter a word to check (or type 'exit' to quit): \").strip()\n",
        "\n",
        "        if user_input.lower() == 'exit':\n",
        "            print(\"Exiting keyword checker. Goodbye!\")\n",
        "            break\n",
        "\n",
        "        if check_if_keyword(user_input):\n",
        "            print(f\"'{user_input}' IS a Python keyword.\")\n",
        "        else:\n",
        "            print(f\"'{user_input}' is NOT a Python keyword.\")\n",
        "        print(\"-\" * 30)"
      ],
      "metadata": {
        "colab": {
          "base_uri": "https://localhost:8080/"
        },
        "id": "hvML0v46U4zV",
        "outputId": "499df2ad-010e-4fe2-f4ec-d131428d118d"
      },
      "execution_count": 5,
      "outputs": [
        {
          "output_type": "stream",
          "name": "stdout",
          "text": [
            "--- Python Keyword Checker ---\n",
            "Enter a word to check (or type 'exit' to quit): copy\n",
            "'copy' is NOT a Python keyword.\n",
            "------------------------------\n",
            "Enter a word to check (or type 'exit' to quit): def\n",
            "'def' IS a Python keyword.\n",
            "------------------------------\n",
            "Enter a word to check (or type 'exit' to quit): exit\n",
            "Exiting keyword checker. Goodbye!\n"
          ]
        }
      ]
    },
    {
      "cell_type": "code",
      "source": [
        "#Create a list and tuple in Python, and demonstrate how attempting to\n",
        "#change an element works differently for each.\n",
        "def demonstrate_mutability():\n",
        "    my_list = [10, 20, 30, 40, 50]\n",
        "    print(f\"Original List: {my_list}\")\n",
        "    print(f\"ID of original list: {id(my_list)}\")\n",
        "    try:\n",
        "        print(\"\\nAttempting to change the second element (index 1) of the list to 25...\")\n",
        "        my_list[1] = 25\n",
        "        print(f\"List after attempted change: {my_list}\")\n",
        "        print(f\"ID of list after change: {id(my_list)}\")\n",
        "        print(\"Result: List elements CAN be changed in-place. The list object's ID remains the same.\")\n",
        "    except TypeError as e:\n",
        "        print(f\"Error: {e}\")\n",
        "    print(\"-\" * 40)\n",
        "    my_tuple = (100, 200, 300, 400, 500)\n",
        "    print(f\"Original Tuple: {my_tuple}\")\n",
        "    print(f\"ID of original tuple: {id(my_tuple)}\")\n",
        "\n",
        "    try:\n",
        "        print(\"\\nAttempting to change the second element (index 1) of the tuple to 250...\")\n",
        "        my_tuple[1] = 250\n",
        "        print(f\"Tuple after attempted change: {my_tuple}\")\n",
        "        print(f\"ID of tuple after change: {id(my_tuple)}\")\n",
        "        print(\"Result: This line will not be reached due to TypeError for tuples.\")\n",
        "    except TypeError as e:\n",
        "        print(f\"Error: {e}\")\n",
        "        print(\"Result: Tuple elements CANNOT be changed in-place. A TypeError is raised.\")\n",
        "    print(\"-\" * 40)\n",
        "\n",
        "if __name__ == \"__main__\":\n",
        "    demonstrate_mutability()"
      ],
      "metadata": {
        "colab": {
          "base_uri": "https://localhost:8080/"
        },
        "id": "h3TS5lVYVHHd",
        "outputId": "09497f43-92ec-4625-9181-8d5607fcb533"
      },
      "execution_count": 6,
      "outputs": [
        {
          "output_type": "stream",
          "name": "stdout",
          "text": [
            "Original List: [10, 20, 30, 40, 50]\n",
            "ID of original list: 133522863940160\n",
            "\n",
            "Attempting to change the second element (index 1) of the list to 25...\n",
            "List after attempted change: [10, 25, 30, 40, 50]\n",
            "ID of list after change: 133522863940160\n",
            "Result: List elements CAN be changed in-place. The list object's ID remains the same.\n",
            "----------------------------------------\n",
            "Original Tuple: (100, 200, 300, 400, 500)\n",
            "ID of original tuple: 133522864332192\n",
            "\n",
            "Attempting to change the second element (index 1) of the tuple to 250...\n",
            "Error: 'tuple' object does not support item assignment\n",
            "Result: Tuple elements CANNOT be changed in-place. A TypeError is raised.\n",
            "----------------------------------------\n"
          ]
        }
      ]
    },
    {
      "cell_type": "code",
      "source": [
        "#Write a function to demonstrate the behavior of mutable and immutable arguments\n",
        "def modify_mutable_list(my_list_arg):\n",
        "    print(f\"\\nInside modify_mutable_list function:\")\n",
        "    print(f\"  Received list (ID): {id(my_list_arg)}\")\n",
        "    print(f\"  Original list value: {my_list_arg}\")\n",
        "\n",
        "    my_list_arg.append(4)\n",
        "    my_list_arg[0] = 99\n",
        "\n",
        "    print(f\"  List after modification: {my_list_arg}\")\n",
        "    print(f\"  List ID after modification: {id(my_list_arg)}\")\n",
        "\n",
        "\n",
        "def reassign_immutable_int(my_int_arg):\n",
        "    print(f\"\\nInside reassign_immutable_int function:\")\n",
        "    print(f\"  Received integer (ID): {id(my_int_arg)}\")\n",
        "    print(f\"  Original integer value: {my_int_arg}\")\n",
        "\n",
        "    my_int_arg = my_int_arg + 10\n",
        "\n",
        "    print(f\"  Integer after attempted reassignment: {my_int_arg}\")\n",
        "    print(f\"  Integer ID after attempted reassignment: {id(my_int_arg)}\")\n",
        "\n",
        "\n",
        "if __name__ == \"__main__\":\n",
        "    print(\"--- Demonstrating Mutable Arguments ---\")\n",
        "    original_list = [1, 2, 3]\n",
        "    print(f\"Before function call: Original list: {original_list}\")\n",
        "    print(f\"Before function call: Original list ID: {id(original_list)}\")\n",
        "\n",
        "    modify_mutable_list(original_list)\n",
        "\n",
        "    print(f\"\\nAfter function call: Original list: {original_list}\")\n",
        "    print(f\"After function call: Original list ID: {id(original_list)}\")\n",
        "    print(\"Conclusion: Modifying a mutable object (like a list) inside a function PERMANENTLY affects the original object outside.\")\n",
        "    print(\"=\" * 50)\n",
        "\n",
        "    print(\"\\n--- Demonstrating Immutable Arguments ---\")\n",
        "    original_integer = 100\n",
        "    print(f\"Before function call: Original integer: {original_integer}\")\n",
        "    print(f\"Before function call: Original integer ID: {id(original_integer)}\")\n",
        "\n",
        "    reassign_immutable_int(original_integer)\n",
        "\n",
        "    print(f\"\\nAfter function call: Original integer: {original_integer}\")\n",
        "    print(f\"After function call: Original integer ID: {id(original_integer)}\")\n",
        "    print(\"Conclusion: Reassigning an immutable object (like an integer) inside a function DOES NOT affect the original object outside. A new object is created inside the function's scope.\")\n",
        "    print(\"=\" * 50)\n"
      ],
      "metadata": {
        "colab": {
          "base_uri": "https://localhost:8080/"
        },
        "id": "U_F25AHcWnko",
        "outputId": "212ae6b1-08ae-418b-d106-aa534385e203"
      },
      "execution_count": 8,
      "outputs": [
        {
          "output_type": "stream",
          "name": "stdout",
          "text": [
            "--- Demonstrating Mutable Arguments ---\n",
            "Before function call: Original list: [1, 2, 3]\n",
            "Before function call: Original list ID: 133522438090816\n",
            "\n",
            "Inside modify_mutable_list function:\n",
            "  Received list (ID): 133522438090816\n",
            "  Original list value: [1, 2, 3]\n",
            "  List after modification: [99, 2, 3, 4]\n",
            "  List ID after modification: 133522438090816\n",
            "\n",
            "After function call: Original list: [99, 2, 3, 4]\n",
            "After function call: Original list ID: 133522438090816\n",
            "Conclusion: Modifying a mutable object (like a list) inside a function PERMANENTLY affects the original object outside.\n",
            "==================================================\n",
            "\n",
            "--- Demonstrating Immutable Arguments ---\n",
            "Before function call: Original integer: 100\n",
            "Before function call: Original integer ID: 10760904\n",
            "\n",
            "Inside reassign_immutable_int function:\n",
            "  Received integer (ID): 10760904\n",
            "  Original integer value: 100\n",
            "  Integer after attempted reassignment: 110\n",
            "  Integer ID after attempted reassignment: 10761224\n",
            "\n",
            "After function call: Original integer: 100\n",
            "After function call: Original integer ID: 10760904\n",
            "Conclusion: Reassigning an immutable object (like an integer) inside a function DOES NOT affect the original object outside. A new object is created inside the function's scope.\n",
            "==================================================\n"
          ]
        }
      ]
    },
    {
      "cell_type": "code",
      "source": [
        "#Write a program that performs basic arithmetic operations on two user-input numbers.\n",
        "def arithmetic_operations(num1, num2):\n",
        "    \"\"\"Performs basic arithmetic operations on two numbers.\"\"\"\n",
        "\n",
        "    print(\"Addition:\", num1 + num2)\n",
        "    print(\"Subtraction:\", num1 - num2)\n",
        "    print(\"Multiplication:\", num1 * num2)\n",
        "    if num2 != 0:\n",
        "        print(\"Division:\", num1 / num2)\n",
        "        print(\"Floor Division:\", num1 // num2)\n",
        "        print(\"Modulus:\", num1 % num2)\n",
        "    else:\n",
        "        print(\"Division by zero is not allowed.\")\n",
        "    print(\"Exponentiation:\", num1 ** num2)\n",
        "\n",
        "# Get user input\n",
        "try:\n",
        "    num1 = float(input(\"Enter the first number: \"))\n",
        "    num2 = float(input(\"Enter the second number: \"))\n",
        "    arithmetic_operations(num1, num2)\n",
        "except ValueError:\n",
        "    print(\"Invalid input. Please enter numbers only.\")"
      ],
      "metadata": {
        "colab": {
          "base_uri": "https://localhost:8080/"
        },
        "id": "xWm1phowXGUc",
        "outputId": "074cd045-8962-40a2-ca1e-ce4191614900"
      },
      "execution_count": 9,
      "outputs": [
        {
          "output_type": "stream",
          "name": "stdout",
          "text": [
            "Enter the first number: 23\n",
            "Enter the second number: 32\n",
            "Addition: 55.0\n",
            "Subtraction: -9.0\n",
            "Multiplication: 736.0\n",
            "Division: 0.71875\n",
            "Floor Division: 0.0\n",
            "Modulus: 23.0\n",
            "Exponentiation: 3.760891051051907e+43\n"
          ]
        }
      ]
    },
    {
      "cell_type": "code",
      "source": [
        "#Write a program to demonstrate the use of logical operators\n",
        "# Logical operators: and, or, not\n",
        "\n",
        "# Example 1: 'and' operator\n",
        "age = 25\n",
        "has_license = True\n",
        "\n",
        "if age >= 18 and has_license:\n",
        "    print(\"Eligible to drive\")\n",
        "else:\n",
        "    print(\"Not eligible to drive\")\n",
        "\n",
        "# Example 2: 'or' operator\n",
        "is_weekend = True\n",
        "is_holiday = False\n",
        "\n",
        "if is_weekend or is_holiday:\n",
        "    print(\"Enjoy your day off\")\n",
        "else:\n",
        "    print(\"It's a working day\")\n",
        "\n",
        "# Example 3: 'not' operator\n",
        "is_raining = False\n",
        "\n",
        "if not is_raining:\n",
        "    print(\"It's a sunny day\")\n",
        "else:\n",
        "    print(\"It's raining\")\n",
        "\n",
        "# Example 4: Combining logical operators\n",
        "temperature = 28\n",
        "is_sunny = True\n",
        "\n",
        "if (temperature > 25 and is_sunny) or not is_raining:\n",
        "    print(\"Perfect weather for outdoor activities\")\n",
        "else:\n",
        "    print(\"Not ideal for outdoor activities\")"
      ],
      "metadata": {
        "colab": {
          "base_uri": "https://localhost:8080/"
        },
        "id": "cJ2qmrlGZQV2",
        "outputId": "479cc331-171a-46d1-c31a-137754c50cb1"
      },
      "execution_count": 10,
      "outputs": [
        {
          "output_type": "stream",
          "name": "stdout",
          "text": [
            "Eligible to drive\n",
            "Enjoy your day off\n",
            "It's a sunny day\n",
            "Perfect weather for outdoor activities\n"
          ]
        }
      ]
    },
    {
      "cell_type": "code",
      "source": [
        "#Write a Python program to convert user input from string to integer, float, and boolean types.\n",
        "def convert_input():\n",
        "    user_input = input(\"Enter a value: \")\n",
        "\n",
        "    try:\n",
        "        # Attempt to convert to integer\n",
        "        integer_value = int(user_input)\n",
        "        print(f\"Integer: {integer_value}, Type: {type(integer_value)}\")\n",
        "    except ValueError:\n",
        "        print(\"Not an integer.\")\n",
        "\n",
        "    try:\n",
        "        # Attempt to convert to float\n",
        "        float_value = float(user_input)\n",
        "        print(f\"Float: {float_value}, Type: {type(float_value)}\")\n",
        "    except ValueError:\n",
        "        print(\"Not a float.\")\n",
        "\n",
        "    # Attempt to convert to boolean\n",
        "    if user_input.lower() == 'true':\n",
        "        boolean_value = True\n",
        "        print(f\"Boolean: {boolean_value}, Type: {type(boolean_value)}\")\n",
        "    elif user_input.lower() == 'false':\n",
        "        boolean_value = False\n",
        "        print(f\"Boolean: {boolean_value}, Type: {type(boolean_value)}\")\n",
        "    else:\n",
        "        print(\"Not a boolean (True/False).\")\n",
        "\n",
        "convert_input()"
      ],
      "metadata": {
        "colab": {
          "base_uri": "https://localhost:8080/"
        },
        "id": "XlXK68n-ZxTC",
        "outputId": "ffbcd6f3-0359-42b0-b4cc-eeacdff903c3"
      },
      "execution_count": 12,
      "outputs": [
        {
          "output_type": "stream",
          "name": "stdout",
          "text": [
            "Enter a value: 12\n",
            "Integer: 12, Type: <class 'int'>\n",
            "Float: 12.0, Type: <class 'float'>\n",
            "Not a boolean (True/False).\n"
          ]
        }
      ]
    },
    {
      "cell_type": "code",
      "source": [
        "#Write code to demonstrate type casting with list elements.\n",
        "my_list = ['1', '2', '3.14', 'True']\n",
        "casted_list = [int(x) if x.isdigit() else float(x) if '.' in x else bool(x) if x.lower() in ['true', 'false'] else x for x in my_list]\n",
        "print(casted_list)"
      ],
      "metadata": {
        "colab": {
          "base_uri": "https://localhost:8080/"
        },
        "id": "pA5a9KZTZ7dS",
        "outputId": "d6ee3a4c-856d-4115-a83d-3f56eedf59c2"
      },
      "execution_count": 14,
      "outputs": [
        {
          "output_type": "stream",
          "name": "stdout",
          "text": [
            "[1, 2, 3.14, True]\n"
          ]
        }
      ]
    },
    {
      "cell_type": "code",
      "source": [
        "#Write a program that checks if a number is positive, negative, or zero.\n",
        "def check_number(number):\n",
        "    if number > 0:\n",
        "        print(\"The number is positive\")\n",
        "    elif number < 0:\n",
        "        print(\"The number is negative\")\n",
        "    else:\n",
        "        print(\"The number is zero\")\n",
        "\n",
        "# Get input from the user\n",
        "num = float(input(\"Enter a number: \"))\n",
        "\n",
        "# Call the function to check the number\n",
        "check_number(num)\n"
      ],
      "metadata": {
        "colab": {
          "base_uri": "https://localhost:8080/"
        },
        "id": "f1nDGlhFaQEv",
        "outputId": "f7c8ff75-b1b0-4d0f-c4e2-3d6ac953487e"
      },
      "execution_count": 17,
      "outputs": [
        {
          "output_type": "stream",
          "name": "stdout",
          "text": [
            "Enter a number: 4\n",
            "The number is positive\n"
          ]
        }
      ]
    },
    {
      "cell_type": "code",
      "source": [
        "#Write a for loop to print numbers from 1 to 10\n",
        "for i in range(1, 11):\n",
        "    print(i)"
      ],
      "metadata": {
        "colab": {
          "base_uri": "https://localhost:8080/"
        },
        "id": "kY0rPMCwa06Z",
        "outputId": "0b965e08-d639-4beb-b9d7-b971897c7856"
      },
      "execution_count": 18,
      "outputs": [
        {
          "output_type": "stream",
          "name": "stdout",
          "text": [
            "1\n",
            "2\n",
            "3\n",
            "4\n",
            "5\n",
            "6\n",
            "7\n",
            "8\n",
            "9\n",
            "10\n"
          ]
        }
      ]
    },
    {
      "cell_type": "code",
      "source": [
        "# Write a Python program to find the sum of all even numbers between 1 and 50.\n",
        "total = 0\n",
        "for number in range(2, 51, 2):\n",
        "    total += number\n",
        "print(total)"
      ],
      "metadata": {
        "colab": {
          "base_uri": "https://localhost:8080/"
        },
        "id": "IHX-VuxgbZow",
        "outputId": "4f4b491d-94ad-4118-c1ee-9fd1e6c3123a"
      },
      "execution_count": 20,
      "outputs": [
        {
          "output_type": "stream",
          "name": "stdout",
          "text": [
            "650\n"
          ]
        }
      ]
    },
    {
      "cell_type": "code",
      "source": [
        "#Write a program to reverse a string using a while loop.\n",
        "def reverse_string(s):\n",
        "    reversed_s = \"\"\n",
        "    length = len(s) - 1\n",
        "    while length >= 0:\n",
        "        reversed_s += s[length]\n",
        "        length -= 1\n",
        "    return reversed_s\n",
        "\n",
        "input_string = \"hello world\"\n",
        "reversed_string = reverse_string(input_string)\n",
        "print(\"Original String:\", input_string)\n",
        "print(\"Reversed String:\", reversed_string)"
      ],
      "metadata": {
        "colab": {
          "base_uri": "https://localhost:8080/"
        },
        "id": "slk0kaUlbf6I",
        "outputId": "7c010c01-492c-404f-8a09-3c20bf2a768b"
      },
      "execution_count": 22,
      "outputs": [
        {
          "output_type": "stream",
          "name": "stdout",
          "text": [
            "Original String: hello world\n",
            "Reversed String: dlrow olleh\n"
          ]
        }
      ]
    },
    {
      "cell_type": "code",
      "source": [
        "#Write a Python program to calculate the factorial of a number provided by the user using a while loop.\n",
        "def factorial_while_loop(n):\n",
        "    if n < 0:\n",
        "        raise ValueError(\"Factorial is not defined for negative numbers.\")\n",
        "\n",
        "    fact = 1\n",
        "    while n > 1:\n",
        "        fact *= n\n",
        "        n -= 1\n",
        "    return fact\n",
        "\n",
        "if __name__ == \"__main__\":\n",
        "    try:\n",
        "        num = int(input(\"Enter a non-negative integer: \"))\n",
        "        result = factorial_while_loop(num)\n",
        "        print(f\"The factorial of {num} is {result}\")\n",
        "    except ValueError as e:\n",
        "        print(f\"Error: {e}\")"
      ],
      "metadata": {
        "colab": {
          "base_uri": "https://localhost:8080/"
        },
        "id": "adSZCVreb53b",
        "outputId": "1c93edfe-3f70-4661-e337-c333904a6422"
      },
      "execution_count": 25,
      "outputs": [
        {
          "output_type": "stream",
          "name": "stdout",
          "text": [
            "Enter a non-negative integer: 5\n",
            "The factorial of 5 is 120\n"
          ]
        }
      ]
    },
    {
      "cell_type": "code",
      "source": [],
      "metadata": {
        "id": "TV9B3M0VcJ9-"
      },
      "execution_count": null,
      "outputs": []
    }
  ]
}